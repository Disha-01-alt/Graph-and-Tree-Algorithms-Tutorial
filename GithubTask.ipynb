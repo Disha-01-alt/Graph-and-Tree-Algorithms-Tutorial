{
 "cells": [
  {
   "cell_type": "markdown",
   "metadata": {},
   "source": [
    "# Graph and Tree Algorithms Tutorial\n",
    "\n",
    "This tutorial covers essential concepts and algorithms related to graphs and trees. Each section includes the code and explanations for common operations and properties of graphs and trees.\n",
    "\n",
    "---\n",
    "\n",
    "## 1. Find the Degree of Each Vertex\n",
    "\n",
    "Write a code to find the degree of each vertex, and store it in a dictionary. Sort the keys of the dictionary by the degree stored in the values.\n",
    "\n",
    "---\n",
    "\n",
    "## 2. Inter-convert Graph Representations\n",
    "\n",
    "Write a code to inter-convert the 3 graph representations we have learnt.\n",
    "\n",
    "---\n",
    "\n",
    "## 3. Check if Two Vertices are Adjacent\n",
    "\n",
    "Given a graph and two vertices, check if they are adjacent.\n",
    "\n",
    "---\n",
    "\n",
    "## 4. Check if a Graph is Complete\n",
    "\n",
    "Check if a graph is complete.\n",
    "\n",
    "---\n",
    "\n",
    "## 5. Check if a Graph is Connected\n",
    "\n",
    "Check if a graph is connected.\n",
    "\n",
    "---\n",
    "\n",
    "## 6. Check if a List of Vertices Forms a Walk, Trail, or Path\n",
    "\n",
    "Given a graph and a list of vertices, check if it forms a walk, or a trail, or a path, or none of these.\n",
    "\n",
    "---\n",
    "\n",
    "## 7. Check if a Graph is a Tree\n",
    "\n",
    "Check if a given graph is a tree.\n",
    "\n",
    "---\n",
    "\n",
    "## 8. Find a Spanning Tree\n",
    "\n",
    "Given a connected cyclic graph, find its spanning tree.\n",
    "\n",
    "---\n",
    "\n",
    "## 9. Count the Number of Leaf Nodes in a Tree\n",
    "\n",
    "Given a tree, find the number of leaf nodes.\n",
    "\n",
    "---\n",
    "\n",
    "## 10. Check if a Tree is a Binary Tree\n",
    "\n",
    "Given a tree, check if it's a binary tree.\n",
    "\n",
    "---\n",
    "\n",
    "## 11. Find the Height of a Tree\n",
    "\n",
    "Given a tree, find its height.\n",
    "\n",
    "---\n",
    "\n",
    "## 12. Find the Depth of a Node in a Tree\n",
    "\n",
    "Given a tree, find its depth.\n",
    "\n",
    "---"
   ]
  },
  {
   "cell_type": "markdown",
   "metadata": {},
   "source": [
    "## Manually written the 3 ways of representing graphs in python."
   ]
  },
  {
   "cell_type": "markdown",
   "metadata": {},
   "source": [
    "### Undirected Graph Representation"
   ]
  },
  {
   "cell_type": "code",
   "execution_count": 234,
   "metadata": {},
   "outputs": [],
   "source": [
    "nodeList = ['s1','s2','s3','s4','s5']\n",
    "adjMatrix = [[0,1,0,0,1],[1,0,1,0,1],[0,1,0,1,0],[0,0,1,0,0],[1,1,0,0,0]]\n",
    "adjList = {'s1':['s2','s5'],'s2':['s1','s3','s5'],'s3':['s2','s4'],'s4':['s3'],'s5':['s1','s2']}\n",
    "edgeList = [('s1','s2'),('s1','s5'),('s2','s1'),('s5','s1'),('s2','s3'),('s2','s5'),('s3','s2'),('s5','s2'),('s3','s4'),('s4','s3')]\n"
   ]
  },
  {
   "cell_type": "markdown",
   "metadata": {},
   "source": [
    "### Directed Graph Representation"
   ]
  },
  {
   "cell_type": "code",
   "execution_count": 235,
   "metadata": {},
   "outputs": [],
   "source": [
    "AdjMatrix = [[0,1,0,0,0],[0,0,0,0,1],[0,1,0,0,0],[0,0,1,0,0],[1,0,0,0,0]]\n",
    "AdjList = {'s1':['s2'],'s2':['s5'],'s3':['s2'],'s4':['s3'],'s5':['s1']}\n",
    "EdgeList = [('s1','s2'),('s2','s5'),('s3','s2'),('s4','s3'),('s5','s1')]\n"
   ]
  },
  {
   "cell_type": "markdown",
   "metadata": {},
   "source": [
    "## 1. Find the Degree of Each Vertex\n",
    "\n",
    "**Task:** Write a code to find the degree of each vertex and store it in a dictionary. The degree of a vertex is defined as the number of edges connected to it.\n",
    "\n",
    "- **Goal:** Store the degree of each vertex in a dictionary and sort the keys by their degree.\n",
    "\n",
    "**Explanation:** The degree of a vertex is a fundamental property in graph theory. By calculating the degree, you can understand how well-connected a vertex is within the graph. Sorting the dictionary by degrees will give you a sense of which vertices are the most or least connected.\n",
    "\n",
    "---\n"
   ]
  },
  {
   "cell_type": "markdown",
   "metadata": {},
   "source": [
    " type: 1 Graph representation is Adjacent Matrix\n",
    "\n",
    " type: 2 Graph representation is Adjacent List\n",
    "\n",
    " type: 3 Graph representation is Edege List"
   ]
  },
  {
   "cell_type": "code",
   "execution_count": 165,
   "metadata": {},
   "outputs": [],
   "source": [
    "# Function to sort a dictionary by its values in ascending order using Selection Sort\n",
    "def sort_degree(dict1):\n",
    "    items = list(dict1.items())  # Convert dictionary to a list of (key, value) pairs\n",
    "    for i in range(len(items)):\n",
    "        minIndx = i\n",
    "        for j in range(i + 1, len(items)):\n",
    "            if items[minIndx][1] > items[j][1]:  # Find the pair with smaller value\n",
    "                minIndx = j\n",
    "        items[i], items[minIndx] = items[minIndx], items[i]  # Swap the current item with the smallest found\n",
    "    sortedDict = {}\n",
    "    for k, v in items:\n",
    "        sortedDict[k] = v  # Rebuild dictionary from sorted (key, value) pairs\n",
    "    return sortedDict\n",
    "\n",
    "# Function to find degrees of all nodes in an Undirected Graph\n",
    "# nodeList: list of nodes (strings, numbers, etc.)\n",
    "# Rep: the graph (can be Adjacency Matrix, List, or Edge List depending on 'type')\n",
    "# type: \n",
    "#   1 - Adjacency Matrix\n",
    "#   2 - Adjacency List\n",
    "#   3 - Edge List\n",
    "def find_degree_Un(nodeList, Rep, type):\n",
    "\n",
    "    # Helper function: convert edge list to adjacency matrix\n",
    "    def edgeList_to_adjMatrix(Rep, nodeList):\n",
    "        n = len(nodeList)\n",
    "        adjMatrix = [[0 for _ in range(n)] for _ in range(n)]\n",
    "        for u, v in Rep:  # Each edge connects two nodes u and v\n",
    "            i, j = nodeList.index(u), nodeList.index(v)\n",
    "            adjMatrix[i][j] = 1\n",
    "            adjMatrix[j][i] = 1  # Since it's an undirected graph\n",
    "        return adjMatrix\n",
    "\n",
    "    # Helper function: convert adjacency list to adjacency matrix\n",
    "    def adjList_to_adjMatrix(graph, nodeList):\n",
    "        n = len(nodeList)\n",
    "        adjMatrix = [[0 for _ in range(n)] for _ in range(n)]\n",
    "        for node, neighbors in graph.items():\n",
    "            for neighbor in neighbors:\n",
    "                i = nodeList.index(node)\n",
    "                j = nodeList.index(neighbor)\n",
    "                adjMatrix[i][j] = 1\n",
    "                adjMatrix[j][i] = 1  # Because undirected\n",
    "        return adjMatrix\n",
    "\n",
    "    # Convert to adjacency matrix if needed\n",
    "    if type == 2:\n",
    "        Rep = adjList_to_adjMatrix(Rep, nodeList)\n",
    "    elif type == 3:\n",
    "        Rep = edgeList_to_adjMatrix(Rep, nodeList)\n",
    "\n",
    "    # Compute degree of each node by counting 1s in each row\n",
    "    degreeDict = {}\n",
    "    for i in range(len(Rep)):\n",
    "        degree = sum(Rep[i])  # Count the number of edges for node i\n",
    "        degreeDict[nodeList[i]] = degree\n",
    "\n",
    "    return sort_degree(degreeDict)  # Return dictionary sorted by degree (ascending)\n"
   ]
  },
  {
   "cell_type": "code",
   "execution_count": 166,
   "metadata": {},
   "outputs": [],
   "source": [
    "# Function to find in-degree and out-degree of all nodes in a Directed Graph\n",
    "# nodeList: list of all nodes\n",
    "# Rep: graph representation (can be adjacency matrix, list, or edge list)\n",
    "# type: \n",
    "#   1 - Adjacency Matrix\n",
    "#   2 - Adjacency List\n",
    "#   3 - Edge List\n",
    "def find_degree_Di(nodeList, Rep, type):\n",
    "\n",
    "    # Convert Edge List to Adjacency Matrix\n",
    "    def edgeList_to_adjMatrix(Rep, nodeList):\n",
    "        n = len(nodeList)\n",
    "        adjMatrix = [[0 for _ in range(n)] for _ in range(n)]\n",
    "        for u, v in Rep:  # Directed edge from u to v\n",
    "            i, j = nodeList.index(u), nodeList.index(v)\n",
    "            adjMatrix[i][j] = 1  # Set 1 for edge u → v\n",
    "        return adjMatrix\n",
    "\n",
    "    # Convert Adjacency List to Adjacency Matrix\n",
    "    def adjList_to_adjMatrix(Rep, nodeList):\n",
    "        n = len(nodeList)\n",
    "        adjMatrix = [[0 for _ in range(n)] for _ in range(n)]\n",
    "        for node, neighbors in Rep.items():\n",
    "            for neighbor in neighbors:\n",
    "                i = nodeList.index(node)\n",
    "                j = nodeList.index(neighbor)\n",
    "                adjMatrix[i][j] = 1  # Set 1 for edge node → neighbor\n",
    "        return adjMatrix\n",
    "\n",
    "    # Convert to Adjacency Matrix if required\n",
    "    if type == 2:\n",
    "        Rep = adjList_to_adjMatrix(Rep, nodeList)\n",
    "    elif type == 3:\n",
    "        Rep = edgeList_to_adjMatrix(Rep, nodeList)\n",
    "\n",
    "    # Initialize dictionaries for in-degree and out-degree\n",
    "    indegree = {}   # In-degree: number of edges coming *into* a node (column sum)\n",
    "    outdegree = {}  # Out-degree: number of edges going *out* of a node (row sum)\n",
    "\n",
    "    # Calculate in-degree and out-degree for each node\n",
    "    for i in range(len(Rep)):\n",
    "        in_count = 0\n",
    "        for j in range(len(Rep)):\n",
    "            in_count += Rep[j][i]  # Sum of column i → in-degree\n",
    "        out_count = sum(Rep[i])   # Sum of row i → out-degree\n",
    "        indegree[nodeList[i]] = in_count\n",
    "        outdegree[nodeList[i]] = out_count\n",
    "\n",
    "    # Return sorted degrees using previously defined sort_degree()\n",
    "    degree = {\n",
    "        'Indegree': sort_degree(indegree),\n",
    "        'Outdegree': sort_degree(outdegree)\n",
    "    }\n",
    "    return degree\n"
   ]
  },
  {
   "cell_type": "code",
   "execution_count": 167,
   "metadata": {},
   "outputs": [
    {
     "data": {
      "text/plain": [
       "{'s4': 1, 's3': 2, 's1': 2, 's5': 2, 's2': 3}"
      ]
     },
     "execution_count": 167,
     "metadata": {},
     "output_type": "execute_result"
    }
   ],
   "source": [
    "find_degree_Un(nodeList,edgeList,3)"
   ]
  },
  {
   "cell_type": "code",
   "execution_count": 168,
   "metadata": {},
   "outputs": [
    {
     "data": {
      "text/plain": [
       "{'Indegree': {'s4': 0, 's3': 1, 's1': 1, 's5': 1, 's2': 2},\n",
       " 'Outdegree': {'s1': 1, 's2': 1, 's3': 1, 's4': 1, 's5': 1}}"
      ]
     },
     "execution_count": 168,
     "metadata": {},
     "output_type": "execute_result"
    }
   ],
   "source": [
    "find_degree_Di(nodeList,EdgeList,3)"
   ]
  },
  {
   "cell_type": "markdown",
   "metadata": {},
   "source": [
    "## 2. Inter-convert Graph Representations\n",
    "\n",
    "**Task:** Write a code to inter-convert the 3 graph representations we have learnt.\n",
    "\n",
    "- **Types of Representations:**\n",
    "  - **Adjacency Matrix**\n",
    "  - **Adjacency List**\n",
    "  - **Edge List**\n",
    "\n",
    "**Explanation:** Different problems may require different representations for efficiency reasons. The inter-conversion between graph representations allows you to work with the most appropriate structure based on the problem at hand. This task will help you practice how to convert from one form to another.\n",
    "\n",
    "---\n"
   ]
  },
  {
   "cell_type": "markdown",
   "metadata": {},
   "source": [
    " type:1 Adjacent Matrix to Edge List\n",
    "\n",
    " type:2 Adjacent Matrix to Adjacent List\n",
    "\n",
    " type:3 Edge List to Adjacent Matrix\n",
    "\n",
    " type:4 Edge List to Adjacent List\n",
    "\n",
    " type:5 Adjacent List to Adjacent Matrix\n",
    " \n",
    " type:6 Adjacent List to Edge List"
   ]
  },
  {
   "cell_type": "code",
   "execution_count": 169,
   "metadata": {},
   "outputs": [],
   "source": [
    "# Function to convert between different graph representations:\n",
    "# 1. Adjacency Matrix -> Edge List\n",
    "# 2. Adjacency Matrix -> Adjacency List\n",
    "# 3. Edge List -> Adjacency Matrix\n",
    "# 4. Edge List -> Adjacency List\n",
    "# 5. Adjacency List -> Adjacency Matrix\n",
    "# 6. Adjacency List -> Edge List\n",
    "def interConversion(Rep, nodeList, type):\n",
    "\n",
    "    # Convert Adjacency Matrix to Edge List\n",
    "    def adjMatrix_to_edgeList(Rep, nodeList):\n",
    "        edgeList = []  # Initialize an empty list to store edges\n",
    "        n = len(Rep)   # Number of nodes (size of the matrix)\n",
    "        for i in range(n):\n",
    "            for j in range(n):\n",
    "                if Rep[i][j] == 1:  # If there's an edge between nodes i and j\n",
    "                    edgeList.append((nodeList[i], nodeList[j]))  # Add the edge to the list\n",
    "        return edgeList\n",
    "\n",
    "    # Convert Adjacency Matrix to Adjacency List\n",
    "    def adjMatrix_to_adjList(Rep, nodeList):\n",
    "        adjList = {}  # Initialize an empty dictionary to store adjacency list\n",
    "        n = len(Rep)  # Number of nodes\n",
    "        for i in range(n):\n",
    "            lst = []  # Temporary list to store neighbors of node i\n",
    "            for j in range(n):\n",
    "                if Rep[i][j] == 1:  # If there's an edge from node i to node j\n",
    "                    lst.append(nodeList[j])  # Add node j to the list of neighbors\n",
    "            adjList[nodeList[i]] = lst  # Assign the list of neighbors to node i\n",
    "        return adjList\n",
    "\n",
    "    # Convert Edge List to Adjacency Matrix\n",
    "    def edgeList_to_adjMatrix(Rep, nodeList):\n",
    "        n = len(nodeList)\n",
    "        adjMatrix = [[0 for _ in range(n)] for _ in range(n)]  # Initialize an empty matrix\n",
    "        for u, v in Rep:  # Iterate through the edges in the edge list\n",
    "            i, j = nodeList.index(u), nodeList.index(v)  # Get the indices of nodes u and v\n",
    "            adjMatrix[i][j] = 1  # Set the corresponding matrix entry to 1 (edge exists)\n",
    "        return adjMatrix\n",
    "\n",
    "    # Convert Adjacency List to Adjacency Matrix\n",
    "    def adjList_to_adjMatrix(Rep, nodeList):\n",
    "        n = len(nodeList)\n",
    "        adjMatrix = [[0 for _ in range(n)] for _ in range(n)]  # Initialize an empty matrix\n",
    "        for key, value in Rep.items():  # Iterate through the adjacency list\n",
    "            for j in value:  # For each neighbor of node 'key'\n",
    "                adjMatrix[nodeList.index(key)][nodeList.index(j)] = 1  # Set matrix entry to 1 for each edge\n",
    "        return adjMatrix\n",
    "\n",
    "    # Perform the conversion based on the specified type\n",
    "    if type == 1:\n",
    "        m = adjMatrix_to_edgeList(Rep, nodeList)  # Convert Adjacency Matrix to Edge List\n",
    "        return m\n",
    "    elif type == 2:\n",
    "        m = adjMatrix_to_adjList(Rep, nodeList)  # Convert Adjacency Matrix to Adjacency List\n",
    "        return m\n",
    "    elif type == 3:\n",
    "        m = edgeList_to_adjMatrix(Rep, nodeList)  # Convert Edge List to Adjacency Matrix\n",
    "        return m\n",
    "    elif type == 4:\n",
    "        r = edgeList_to_adjMatrix(Rep, nodeList)  # Convert Edge List to Adjacency Matrix\n",
    "        m = adjMatrix_to_adjList(r, nodeList)     # Convert the resulting Adjacency Matrix to Adjacency List\n",
    "        return m\n",
    "    elif type == 5:\n",
    "        m = adjList_to_adjMatrix(Rep, nodeList)  # Convert Adjacency List to Adjacency Matrix\n",
    "        return m\n",
    "    elif type == 6:\n",
    "        r = adjList_to_adjMatrix(Rep, nodeList)  # Convert Adjacency List to Adjacency Matrix\n",
    "        m = adjMatrix_to_edgeList(r, nodeList)   # Convert the resulting Adjacency Matrix to Edge List\n",
    "        return m\n"
   ]
  },
  {
   "cell_type": "code",
   "execution_count": 170,
   "metadata": {},
   "outputs": [
    {
     "data": {
      "text/plain": [
       "[[0, 1, 0, 0, 0],\n",
       " [0, 0, 0, 0, 1],\n",
       " [0, 1, 0, 0, 0],\n",
       " [0, 0, 1, 0, 0],\n",
       " [1, 0, 0, 0, 0]]"
      ]
     },
     "execution_count": 170,
     "metadata": {},
     "output_type": "execute_result"
    }
   ],
   "source": [
    "interConversion(EdgeList,nodeList,3)"
   ]
  },
  {
   "cell_type": "code",
   "execution_count": 171,
   "metadata": {},
   "outputs": [
    {
     "data": {
      "text/plain": [
       "{'s1': ['s2'], 's2': ['s5'], 's3': ['s2'], 's4': ['s3'], 's5': ['s1']}"
      ]
     },
     "execution_count": 171,
     "metadata": {},
     "output_type": "execute_result"
    }
   ],
   "source": [
    "interConversion(EdgeList,nodeList,4)"
   ]
  },
  {
   "cell_type": "code",
   "execution_count": 172,
   "metadata": {},
   "outputs": [
    {
     "data": {
      "text/plain": [
       "[('s1', 's2'),\n",
       " ('s1', 's5'),\n",
       " ('s2', 's1'),\n",
       " ('s2', 's3'),\n",
       " ('s2', 's5'),\n",
       " ('s3', 's2'),\n",
       " ('s3', 's4'),\n",
       " ('s4', 's3'),\n",
       " ('s5', 's1'),\n",
       " ('s5', 's2')]"
      ]
     },
     "execution_count": 172,
     "metadata": {},
     "output_type": "execute_result"
    }
   ],
   "source": [
    "interConversion(adjMatrix,nodeList,1)"
   ]
  },
  {
   "cell_type": "markdown",
   "metadata": {},
   "source": [
    "## 3. Check if Two Vertices are Adjacent\n",
    "\n",
    "**Task:** Given a graph and two vertices, check if they are adjacent.\n",
    "\n",
    "**Explanation:** Two vertices are adjacent if there is an edge connecting them. This is a basic operation in graph theory, useful in determining whether direct connections exist between elements in the graph.\n",
    "\n",
    "---"
   ]
  },
  {
   "cell_type": "code",
   "execution_count": 173,
   "metadata": {},
   "outputs": [],
   "source": [
    "# Function to check if there's an edge between two nodes (v1 and v2)\n",
    "# Rep: graph representation (can be adjacency matrix, list, or edge list)\n",
    "# type: \n",
    "#   1 - Adjacency Matrix\n",
    "#   2 - Adjacency List\n",
    "#   3 - Edge List\n",
    "def checkAdj(Rep, v1, v2, nodeList, type):\n",
    "    # If the graph is represented as an adjacency list (type 2), convert it to adjacency matrix (type 5)\n",
    "    if type == 2:\n",
    "        Rep = interConversion(Rep, nodeList, 5)\n",
    "    # If the graph is represented as an edge list (type 3), convert it to adjacency matrix (type 3)\n",
    "    elif type == 3:\n",
    "        Rep = interConversion(Rep, nodeList, 3)\n",
    "    \n",
    "    # Iterate through the adjacency matrix (or the converted matrix)\n",
    "    for i in range(len(Rep)):\n",
    "        for j in range(len(Rep)):\n",
    "            # If there is an edge between the nodes\n",
    "            if Rep[i][j] == 1:\n",
    "                # Check if the edge is between v1 and v2\n",
    "                if nodeList[i] == v1 and nodeList[j] == v2:\n",
    "                    return True  # If there is an edge, return True\n",
    "    \n",
    "    return False  # If no edge is found, return False\n"
   ]
  },
  {
   "cell_type": "code",
   "execution_count": 174,
   "metadata": {},
   "outputs": [
    {
     "data": {
      "text/plain": [
       "True"
      ]
     },
     "execution_count": 174,
     "metadata": {},
     "output_type": "execute_result"
    }
   ],
   "source": [
    "checkAdj(adjMatrix,'s1','s5',nodeList,1)"
   ]
  },
  {
   "cell_type": "code",
   "execution_count": 175,
   "metadata": {},
   "outputs": [
    {
     "data": {
      "text/plain": [
       "True"
      ]
     },
     "execution_count": 175,
     "metadata": {},
     "output_type": "execute_result"
    }
   ],
   "source": [
    "checkAdj(edgeList,'s1','s2',nodeList,3)"
   ]
  },
  {
   "cell_type": "code",
   "execution_count": 176,
   "metadata": {},
   "outputs": [
    {
     "data": {
      "text/plain": [
       "False"
      ]
     },
     "execution_count": 176,
     "metadata": {},
     "output_type": "execute_result"
    }
   ],
   "source": [
    "checkAdj(adjList,'s4','s5',nodeList,2)"
   ]
  },
  {
   "cell_type": "markdown",
   "metadata": {},
   "source": [
    "## 4. Check if a Graph is Complete\n",
    "\n",
    "**Task:** Check if a graph is complete.\n",
    "\n",
    "**Explanation:** A graph is complete if there is an edge between every pair of distinct vertices. This means that each vertex is adjacent to every other vertex in the graph. Checking if a graph is complete helps determine how \"dense\" or interconnected the graph is.\n",
    "\n",
    "---"
   ]
  },
  {
   "cell_type": "code",
   "execution_count": 177,
   "metadata": {},
   "outputs": [],
   "source": [
    "# Function to check if the graph is complete\n",
    "def checkGraphComplete(Rep, type):\n",
    "    # If the graph is represented as an adjacency list (type 2), convert it to adjacency matrix (type 6)\n",
    "    if type == 2:\n",
    "        Rep = interConversion(Rep, nodeList, 6)\n",
    "    # If the graph is represented as an edge list (type 3), convert it to adjacency matrix (type 3)\n",
    "    elif type == 3:\n",
    "        Rep = interConversion(Rep, nodeList, 3)\n",
    "    \n",
    "    # Iterate through the adjacency matrix\n",
    "    for i in range(len(Rep)):\n",
    "        for j in range(len(Rep)):\n",
    "            # Skip the diagonal elements (i == j) as they represent self-loops\n",
    "            if i != j:\n",
    "                # If there's no edge between nodes i and j, the graph is not complete\n",
    "                if Rep[i][j] != 1:\n",
    "                    return False\n",
    "    # If all non-diagonal elements are 1, the graph is complete\n",
    "    return True\n"
   ]
  },
  {
   "cell_type": "code",
   "execution_count": 178,
   "metadata": {},
   "outputs": [
    {
     "data": {
      "text/plain": [
       "False"
      ]
     },
     "execution_count": 178,
     "metadata": {},
     "output_type": "execute_result"
    }
   ],
   "source": [
    "checkGraphComplete(edgeList,3)"
   ]
  },
  {
   "cell_type": "markdown",
   "metadata": {},
   "source": [
    "## 5. Check if a Graph is Connected\n",
    "\n",
    "**Task:** Check if a graph is connected.\n",
    "\n",
    "**Explanation:** A graph is connected if there is a path between every pair of vertices. In other words, you can reach any vertex from any other vertex. This is a crucial property for determining if information can travel throughout the entire graph.\n",
    "\n",
    "---"
   ]
  },
  {
   "cell_type": "code",
   "execution_count": 179,
   "metadata": {},
   "outputs": [],
   "source": [
    "from collections import deque\n",
    " # Required for using deque, a double-ended queue"
   ]
  },
  {
   "cell_type": "code",
   "execution_count": 180,
   "metadata": {},
   "outputs": [],
   "source": [
    "# Function to check if the graph is connected\n",
    "def checkConnected(Rep, nodeList, type):\n",
    "    # If the graph is represented as an adjacency list (type 2), convert it to adjacency matrix (type 5)\n",
    "    if type == 2:\n",
    "        Rep = interConversion(Rep, nodeList, 5)\n",
    "    # If the graph is represented as an edge list (type 3), convert it to adjacency matrix (type 3)\n",
    "    elif type == 3:\n",
    "        Rep = interConversion(Rep, nodeList, 3)\n",
    "    \n",
    "    # Initialize the list of visited nodes, starting with the first node in nodeList\n",
    "    visitList = [nodeList[0]]\n",
    "    de = deque([nodeList[0]])  # Initialize the deque for BFS, starting from the first node\n",
    "    r = nodeList[0]  # Set the first node as the current node\n",
    "\n",
    "    # Perform a breadth-first search (BFS) to explore the graph\n",
    "    while de:\n",
    "        # For each node in the deque, check its adjacent nodes\n",
    "        for j in range(len(nodeList)):\n",
    "            # Check if there is an edge between the current node (r) and the node at index j\n",
    "            if checkAdj(Rep, r, nodeList[j], nodeList, 1):\n",
    "                # If the adjacent node is not already visited, add it to the visit list and deque\n",
    "                if nodeList[j] not in de and nodeList[j] not in visitList:\n",
    "                    visitList.append(nodeList[j])\n",
    "                    de.append(nodeList[j])\n",
    "        # Pop the leftmost element from the deque (BFS step)\n",
    "        de.popleft()\n",
    "        if de:\n",
    "            r = de[0]  # Set the next node in the deque as the current node\n",
    "    \n",
    "    # Convert the visitList to a set to remove duplicates and check if all nodes were visited\n",
    "    setList = list(set(visitList))\n",
    "    \n",
    "    # If all nodes were visited, the graph is connected\n",
    "    if len(nodeList) == len(visitList):\n",
    "        return True\n",
    "    else:\n",
    "        return False\n"
   ]
  },
  {
   "cell_type": "code",
   "execution_count": 181,
   "metadata": {},
   "outputs": [
    {
     "data": {
      "text/plain": [
       "False"
      ]
     },
     "execution_count": 181,
     "metadata": {},
     "output_type": "execute_result"
    }
   ],
   "source": [
    "checkConnected(AdjList,nodeList,2)"
   ]
  },
  {
   "cell_type": "code",
   "execution_count": 182,
   "metadata": {},
   "outputs": [
    {
     "data": {
      "text/plain": [
       "True"
      ]
     },
     "execution_count": 182,
     "metadata": {},
     "output_type": "execute_result"
    }
   ],
   "source": [
    "checkConnected(edgeList,nodeList,3)"
   ]
  },
  {
   "cell_type": "markdown",
   "metadata": {},
   "source": [
    "## 6. Check if a List of Vertices Forms a Walk, Trail, or Path\n",
    "\n",
    "**Task:** Given a graph and a list of vertices, check if it forms a walk, trail, or path, or none of these.\n",
    "\n",
    "- **Definitions:**\n",
    "  - **Walk:** A sequence of vertices where each pair of consecutive vertices is connected by an edge.\n",
    "  - **Trail:** A walk where no edge is repeated.\n",
    "  - **Path:** A walk in which **no vertex is repeated**. Since edges are defined by their vertices, this also means no edge is repeated.\n",
    "\n",
    "\n",
    "**Explanation:** Understanding walks, trails, and paths helps in determining different kinds of connectivity in a graph. This task will help you analyze how a sequence of vertices behaves in terms of their connections.\n",
    "\n",
    "---\n"
   ]
  },
  {
   "cell_type": "code",
   "execution_count": 183,
   "metadata": {},
   "outputs": [],
   "source": [
    "def checkTraverse(lst, Rep, nodeList, type):\n",
    "    # Convert the graph based on its type (Adjacency List, Edge List, or Adjacency Matrix)\n",
    "    if type == 2:\n",
    "        Rep = interConversion(Rep, nodeList, 5)  # Convert to Adjacency Matrix from Adjacency List\n",
    "        print(Rep)\n",
    "    elif type == 3:\n",
    "        Rep = interConversion(Rep, nodeList, 3)  # Ensure it's an Adjacency Matrix from Edge List\n",
    "\n",
    "    # Function to check if a sequence of nodes is a valid \"walk\" (edges exist between consecutive nodes)\n",
    "    def checkWalk(lst, Rep, nodeList):\n",
    "        for i in range(len(lst) - 1):\n",
    "            if not checkAdj(Rep, lst[i], lst[i + 1], nodeList, 1):  # Check adjacency between consecutive nodes\n",
    "                return False  # If no edge exists, it's not a valid walk\n",
    "        return True  # If all consecutive nodes are connected, return True\n",
    "\n",
    "    # Function to check if a sequence is a valid \"trail\" (walk with no repeated edges)\n",
    "    def checkTrail(lst, Rep, nodeList):\n",
    "        if checkWalk(lst, Rep, nodeList):  # First, check if it's a valid walk\n",
    "            seq = []  # To keep track of the edges encountered\n",
    "            for i in range(len(lst) - 1):\n",
    "                # Check if the edge has already been visited (avoid revisiting the same edge)\n",
    "                if (lst[i], lst[i + 1]) not in seq and (lst[i + 1], lst[i]) not in seq:\n",
    "                    seq.append((lst[i], lst[i + 1]))\n",
    "                else:\n",
    "                    return False  # If the edge is repeated, it's not a valid trail\n",
    "            return True  # If no repeated edges, return True\n",
    "        else:\n",
    "            return False  # If it's not a valid walk, return False\n",
    "\n",
    "    # Function to check if a sequence is a valid \"path\" (no repeated vertices and a valid walk)\n",
    "    def checkPath(lst, Rep, nodeList):\n",
    "        if checkWalk(lst, Rep, nodeList):  # First, check if it's a valid walk\n",
    "            verSet = list(set(lst))  # Get the unique set of vertices from the sequence\n",
    "            if len(verSet) == len(lst):  # Ensure there are no repeated vertices\n",
    "                return True  # If no repeated vertices, it's a valid path\n",
    "            else:\n",
    "                return False  # If any vertex is repeated, it's not a valid path\n",
    "        else:\n",
    "            return False  # If it's not a valid walk, return False\n",
    "\n",
    "    # Create a dictionary with the results for \"Walk\", \"Trail\", and \"Path\"\n",
    "    check = {\n",
    "        \"Walk\": checkWalk(lst, Rep, nodeList),\n",
    "        \"Trail\": checkTrail(lst, Rep, nodeList),\n",
    "        \"Path\": checkPath(lst, Rep, nodeList)\n",
    "    }\n",
    "    \n",
    "    # Print the results for each traversal type\n",
    "    print(check)\n"
   ]
  },
  {
   "cell_type": "code",
   "execution_count": 184,
   "metadata": {},
   "outputs": [
    {
     "name": "stdout",
     "output_type": "stream",
     "text": [
      "[[0, 1, 0, 0, 0], [0, 0, 0, 0, 1], [0, 1, 0, 0, 0], [0, 0, 1, 0, 0], [1, 0, 0, 0, 0]]\n",
      "{'Walk': False, 'Trail': False, 'Path': False}\n"
     ]
    }
   ],
   "source": [
    "checkTraverse(['s1','s2','s3'],AdjList,nodeList,2) #case of directed"
   ]
  },
  {
   "cell_type": "code",
   "execution_count": 185,
   "metadata": {},
   "outputs": [
    {
     "name": "stdout",
     "output_type": "stream",
     "text": [
      "[[0, 1, 0, 0, 1], [1, 0, 1, 0, 1], [0, 1, 0, 1, 0], [0, 0, 1, 0, 0], [1, 1, 0, 0, 0]]\n",
      "{'Walk': True, 'Trail': True, 'Path': True}\n"
     ]
    }
   ],
   "source": [
    "checkTraverse(['s1','s2','s3'],adjList,nodeList,2)"
   ]
  },
  {
   "cell_type": "code",
   "execution_count": 192,
   "metadata": {},
   "outputs": [
    {
     "name": "stdout",
     "output_type": "stream",
     "text": [
      "{'Walk': True, 'Trail': True, 'Path': True}\n"
     ]
    }
   ],
   "source": [
    "checkTraverse(['s5','s1','s2'],edgeList,nodeList,3)"
   ]
  },
  {
   "cell_type": "code",
   "execution_count": 193,
   "metadata": {},
   "outputs": [
    {
     "name": "stdout",
     "output_type": "stream",
     "text": [
      "{'Walk': True, 'Trail': True, 'Path': True}\n"
     ]
    }
   ],
   "source": [
    "checkTraverse(['s5','s1','s2'],EdgeList,nodeList,3)  #directed graph"
   ]
  },
  {
   "cell_type": "markdown",
   "metadata": {},
   "source": []
  },
  {
   "cell_type": "code",
   "execution_count": 195,
   "metadata": {},
   "outputs": [],
   "source": [
    "nodeList1 = ['s1','s2','s3','s4','s5']\n",
    "adjMatrix1 = [[0, 1, 1, 0, 0],[0, 0, 0, 1, 0],[0, 0, 0, 0, 0],[0, 0, 0, 0, 1],[0, 0, 0, 0, 0]]\n",
    "adjList1 = {'s1': ['s2', 's3'],'s2': ['s4'],'s3': [],'s4': ['s5'],'s5': []}\n",
    "edgeList1 = [('s1', 's2'),('s1', 's3'),('s2', 's4'),('s4', 's5')]\n"
   ]
  },
  {
   "cell_type": "markdown",
   "metadata": {},
   "source": [
    "## 7. Check if a Graph is a Tree\n",
    "\n",
    "**Task:** Check if a given graph is a tree.\n",
    "\n",
    "**Explanation:** A tree is a connected graph with no cycles. This task helps in verifying whether a graph satisfies the properties of a tree, such as connectivity and acyclic nature. Trees are important because they are hierarchical structures used in many applications.\n",
    "\n",
    "---"
   ]
  },
  {
   "cell_type": "code",
   "execution_count": 199,
   "metadata": {},
   "outputs": [],
   "source": [
    "def checkTree(Rep, nodeList, type):\n",
    "    # Get the total number of nodes\n",
    "    n = len(nodeList)\n",
    "\n",
    "    # Convert the graph to Edge List format before processing\n",
    "    # If current type is 1 (Adjacency Matrix), convert it to Edge List using type 1 → 3\n",
    "    if type == 1:\n",
    "        Rep = interConversion(Rep, nodeList, 1)  # Adjacency Matrix → Edge List\n",
    "    # If current type is 2 (Adjacency List), convert it directly to Edge List (type 6)\n",
    "    elif type == 2:\n",
    "        Rep = interConversion(Rep, nodeList, 6)  # Adjacency List → Edge List\n",
    "\n",
    "    # Create a list of unique edges \n",
    "    edgeList = []\n",
    "    for u, v in Rep:\n",
    "        if (u, v) not in edgeList and (v, u) not in edgeList:\n",
    "            edgeList.append((u, v))\n",
    "\n",
    "    # Count the number of unique edges\n",
    "    nE = len(edgeList)\n",
    "\n",
    "    # Check if the graph is connected\n",
    "    # We use type 3, which is Edge List format, to check connectivity\n",
    "    if checkConnected(Rep, nodeList, 3):\n",
    "        # A graph is a tree if:\n",
    "        # 1. It is connected\n",
    "        # 2. It has exactly (n - 1) edges\n",
    "        if (n - 1) == nE:\n",
    "            return True  # It's a tree\n",
    "        else:\n",
    "            return False  # Not a tree: too many or too few edges\n",
    "    else:\n",
    "        return False  # Not a tree: graph is disconnected\n"
   ]
  },
  {
   "cell_type": "code",
   "execution_count": 200,
   "metadata": {},
   "outputs": [
    {
     "data": {
      "text/plain": [
       "True"
      ]
     },
     "execution_count": 200,
     "metadata": {},
     "output_type": "execute_result"
    }
   ],
   "source": [
    "checkTree(adjList1,nodeList,2)"
   ]
  },
  {
   "cell_type": "code",
   "execution_count": 201,
   "metadata": {},
   "outputs": [
    {
     "data": {
      "text/plain": [
       "False"
      ]
     },
     "execution_count": 201,
     "metadata": {},
     "output_type": "execute_result"
    }
   ],
   "source": [
    "checkTree(adjList,nodeList,2)"
   ]
  },
  {
   "cell_type": "markdown",
   "metadata": {},
   "source": [
    "## 8. Find a Spanning Tree\n",
    "\n",
    "**Task:** Given a connected cyclic graph, find its spanning tree.\n",
    "\n",
    "**Explanation:** A spanning tree of a graph is a subgraph that includes all the vertices of the original graph, is connected, and has no cycles. Spanning trees are useful in network design, routing, and minimizing costs in graph-based problems.\n",
    "\n",
    "---"
   ]
  },
  {
   "cell_type": "code",
   "execution_count": 203,
   "metadata": {},
   "outputs": [],
   "source": [
    "def find_spanningTree(Rep, nodeList, type):\n",
    "    # Initialize list of visited nodes and a queue for BFS\n",
    "    visitedList = [nodeList[0]]         # Start from the first node\n",
    "    que = deque([nodeList[0]])          # BFS queue initialized with first node\n",
    "    edgeList = []                       # Store edges that form the spanning tree\n",
    "\n",
    "    while que:\n",
    "        # Pop a node from the queue\n",
    "        r = que.popleft()\n",
    "\n",
    "        # Check all possible neighbors of current node `r`\n",
    "        for n in nodeList:\n",
    "            # checkAdj checks if there is an edge between r and n based on the given graph type:\n",
    "            # type 1: Adjacency Matrix\n",
    "            # type 2: Adjacency List\n",
    "            # type 3: Edge List\n",
    "            if checkAdj(Rep, r, n, nodeList, type):\n",
    "                # If neighbor n is not visited yet\n",
    "                if n not in visitedList:\n",
    "                    visitedList.append(n)      # Mark as visited\n",
    "                    que.append(n)              # Add to BFS queue\n",
    "                    edgeList.append((r, n))    # Add this edge to the spanning tree\n",
    "\n",
    "    # Return the list of edges that form the spanning tree\n",
    "    return edgeList\n"
   ]
  },
  {
   "cell_type": "code",
   "execution_count": 207,
   "metadata": {},
   "outputs": [
    {
     "data": {
      "text/plain": [
       "[('s1', 's2'), ('s1', 's5'), ('s2', 's3'), ('s3', 's4')]"
      ]
     },
     "execution_count": 207,
     "metadata": {},
     "output_type": "execute_result"
    }
   ],
   "source": [
    "find_spanningTree(adjList,nodeList,2)"
   ]
  },
  {
   "cell_type": "code",
   "execution_count": 208,
   "metadata": {},
   "outputs": [
    {
     "data": {
      "text/plain": [
       "[('s1', 's2'), ('s1', 's3'), ('s2', 's4'), ('s4', 's5')]"
      ]
     },
     "execution_count": 208,
     "metadata": {},
     "output_type": "execute_result"
    }
   ],
   "source": [
    "find_spanningTree(adjList1,nodeList1,2)"
   ]
  },
  {
   "cell_type": "markdown",
   "metadata": {},
   "source": [
    "## 9. Count the Number of Leaf Nodes in a Tree\n",
    "\n",
    "**Task:** Given a tree, find the number of leaf nodes.\n",
    "\n",
    "**Explanation:** A leaf node is a node that has no children. This task will help you understand the structure of trees, especially in hierarchical systems, where leaf nodes often represent the final elements in the structure (e.g., files in a directory).\n",
    "\n",
    "---"
   ]
  },
  {
   "cell_type": "code",
   "execution_count": 218,
   "metadata": {},
   "outputs": [],
   "source": [
    "def count_leaf(Rep, nodeList, type):\n",
    "    # Step 1: Check if the graph is a valid tree\n",
    "    if checkTree(Rep, nodeList, type):\n",
    "        # Step 2: Convert the graph to Adjacency Matrix (type 1) for leaf counting\n",
    "        if type == 2:\n",
    "            Rep = interConversion(Rep, nodeList, 5)  # Adjacency List → Adjacency Matrix\n",
    "        elif type == 3:\n",
    "            Rep = interConversion(Rep, nodeList, 3)  # Edge List → Adjacency Matrix\n",
    "\n",
    "        count = 0\n",
    "        # Step 3: Count nodes with 0 outgoing edges (leaf nodes in a directed tree)\n",
    "        for i in range(len(Rep)):\n",
    "            if sum(Rep[i]) == 0:  # No outgoing edges ⇒ leaf\n",
    "                count += 1\n",
    "\n",
    "        return count\n",
    "    else:\n",
    "        # If the graph is not a tree, print invalid input\n",
    "        print(\"Invalid Input\")\n"
   ]
  },
  {
   "cell_type": "code",
   "execution_count": 220,
   "metadata": {},
   "outputs": [
    {
     "data": {
      "text/plain": [
       "2"
      ]
     },
     "execution_count": 220,
     "metadata": {},
     "output_type": "execute_result"
    }
   ],
   "source": [
    "count_leaf(edgeList1,nodeList1,3)"
   ]
  },
  {
   "cell_type": "markdown",
   "metadata": {},
   "source": [
    "## 10. Check if a Tree is a Binary Tree\n",
    "\n",
    "**Task:** Given a tree, check if it's a binary tree.\n",
    "\n",
    "**Explanation:** A binary tree is a tree where each node has at most two children.\n",
    "\n",
    "---"
   ]
  },
  {
   "cell_type": "code",
   "execution_count": 221,
   "metadata": {},
   "outputs": [],
   "source": [
    "def is_binaryTree(Rep, nodeList, type):\n",
    "    # Step 1: Ensure the input graph is a valid tree\n",
    "    if checkTree(Rep, nodeList, type):\n",
    "        # Step 2: Convert the graph to Adjacency Matrix (type 1) for easy child counting\n",
    "        if type == 2:\n",
    "            Rep = interConversion(Rep, nodeList, 5)  # Adjacency List → Adjacency Matrix\n",
    "        elif type == 3:\n",
    "            Rep = interConversion(Rep, nodeList, 3)  # Edge List → Adjacency Matrix\n",
    "\n",
    "        # Step 3: Check if any node has more than 2 children\n",
    "        for i in range(len(Rep)):\n",
    "            # In Adjacency Matrix, sum of a row = number of outgoing edges (children)\n",
    "            if sum(Rep[i]) > 2:\n",
    "                return False  # Not a binary tree\n",
    "\n",
    "        return True  # All nodes have at most 2 children → Valid binary tree\n",
    "    else:\n",
    "        # If it's not a tree, it's automatically not a binary tree\n",
    "        print(\"Invalid Input\")"
   ]
  },
  {
   "cell_type": "code",
   "execution_count": 223,
   "metadata": {},
   "outputs": [
    {
     "data": {
      "text/plain": [
       "True"
      ]
     },
     "execution_count": 223,
     "metadata": {},
     "output_type": "execute_result"
    }
   ],
   "source": [
    "is_binaryTree(adjMatrix1,nodeList1,1)"
   ]
  },
  {
   "cell_type": "markdown",
   "metadata": {},
   "source": [
    "## 11. Find the Height of a Tree\n",
    "\n",
    "**Task:** Given a tree, find its height.\n",
    "\n",
    "**Explanation:** The height of a tree is the length of the longest path from the root to a leaf.\n",
    "\n",
    "---"
   ]
  },
  {
   "cell_type": "code",
   "execution_count": 226,
   "metadata": {},
   "outputs": [],
   "source": [
    "def find_height(Rep, nodeList, node, type):\n",
    "    # Step 1: Convert the graph to Adjacency List format (type 2)\n",
    "    if type == 1:\n",
    "        Rep = interConversion(Rep, nodeList, 2)  # Adjacency Matrix → Adjacency List\n",
    "    elif type == 3:\n",
    "        Rep = interConversion(Rep, nodeList, 4)  # Edge List → Adjacency List\n",
    "\n",
    "    # Step 2: Define a recursive helper function to calculate height from the given node\n",
    "    def height(Rep, node):\n",
    "        # Base case: If the node has no children, its height is 0\n",
    "        if len(Rep[node]) == 0:\n",
    "            return 0\n",
    "\n",
    "        maxH = 0\n",
    "        # Recursive case: compute the height of each child and take the maximum\n",
    "        for c in Rep[node]:\n",
    "            maxH = max(maxH, height(Rep, c))\n",
    "\n",
    "        return 1 + maxH  # Add 1 for the current node level\n",
    "\n",
    "    # Step 3: Start calculating height from the given node\n",
    "    return height(Rep, node)\n"
   ]
  },
  {
   "cell_type": "code",
   "execution_count": 227,
   "metadata": {},
   "outputs": [
    {
     "data": {
      "text/plain": [
       "0"
      ]
     },
     "execution_count": 227,
     "metadata": {},
     "output_type": "execute_result"
    }
   ],
   "source": [
    "find_height(adjMatrix1,nodeList1,'s5',1)"
   ]
  },
  {
   "cell_type": "code",
   "execution_count": 228,
   "metadata": {},
   "outputs": [
    {
     "data": {
      "text/plain": [
       "3"
      ]
     },
     "execution_count": 228,
     "metadata": {},
     "output_type": "execute_result"
    }
   ],
   "source": [
    "find_height(adjMatrix1,nodeList1,'s1',1)"
   ]
  },
  {
   "cell_type": "markdown",
   "metadata": {},
   "source": [
    "## 12. Find the Depth of a Node in a Tree\n",
    "\n",
    "**Task:** Given a tree, find the depth of a node.\n",
    "\n",
    "**Explanation:** The depth of a node is the length of the path from the root to that node."
   ]
  },
  {
   "cell_type": "code",
   "execution_count": 229,
   "metadata": {},
   "outputs": [],
   "source": [
    "def find_depth(Rep, nodeList, node, type):\n",
    "    # Step 1: Convert the graph to Adjacency List format (type 2)\n",
    "    if type == 1:\n",
    "        Rep = interConversion(Rep, nodeList, 2)  # Adjacency Matrix → Adjacency List\n",
    "    elif type == 3:\n",
    "        Rep = interConversion(Rep, nodeList, 4)  # Edge List → Adjacency List\n",
    "\n",
    "    # Step 2: Define a recursive function to calculate the depth of the node\n",
    "    def depth(Rep, node, c=0):\n",
    "        # Base case: If the current node is the root (first node in the list), return depth\n",
    "        if node == nodeList[0]:\n",
    "            return c\n",
    "\n",
    "        # Recursive case: Traverse upwards to find the parent and increment depth\n",
    "        for parent, children in Rep.items():\n",
    "            if node in children:\n",
    "                return depth(Rep, parent, c + 1)\n",
    "\n",
    "        # If no parent is found (node not in graph), return an error message\n",
    "        return \"Invalid Input\"\n",
    "\n",
    "    # Step 3: Start calculating depth from the given node\n",
    "    return depth(Rep, node)\n"
   ]
  },
  {
   "cell_type": "code",
   "execution_count": 230,
   "metadata": {},
   "outputs": [
    {
     "data": {
      "text/plain": [
       "0"
      ]
     },
     "execution_count": 230,
     "metadata": {},
     "output_type": "execute_result"
    }
   ],
   "source": [
    "find_depth(adjMatrix1,nodeList1,'s1',1)"
   ]
  },
  {
   "cell_type": "code",
   "execution_count": 233,
   "metadata": {},
   "outputs": [
    {
     "data": {
      "text/plain": [
       "1"
      ]
     },
     "execution_count": 233,
     "metadata": {},
     "output_type": "execute_result"
    }
   ],
   "source": [
    "find_depth(adjMatrix1,nodeList1,'s3',1)"
   ]
  },
  {
   "cell_type": "markdown",
   "metadata": {},
   "source": [
    "<h1>Thank You!<h2>"
   ]
  }
 ],
 "metadata": {
  "kernelspec": {
   "display_name": "myenv",
   "language": "python",
   "name": "python3"
  },
  "language_info": {
   "codemirror_mode": {
    "name": "ipython",
    "version": 3
   },
   "file_extension": ".py",
   "mimetype": "text/x-python",
   "name": "python",
   "nbconvert_exporter": "python",
   "pygments_lexer": "ipython3",
   "version": "3.12.3"
  }
 },
 "nbformat": 4,
 "nbformat_minor": 2
}
